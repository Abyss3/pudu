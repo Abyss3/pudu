{
 "cells": [
  {
   "cell_type": "code",
   "execution_count": null,
   "metadata": {},
   "outputs": [],
   "source": [
    "data = {'Name': 'John', 'Last Name': 'Doe', 'Email': 'john.doe@example.com'}\n",
    "with open('data.csv', 'a', newline='') as file:\n",
    "    writer = csv.DictWriter(file, fieldnames=['Name', 'Last Name', 'Email'])\n",
    "    if file.tell() == 0:\n",
    "        writer.writeheader()\n",
    "    writer.writerow(data)\n"
   ]
  },
  {
   "cell_type": "code",
   "execution_count": null,
   "metadata": {},
   "outputs": [],
   "source": [
    "            # timestamps = re.findall(r'\\d{2}:\\d{2}:\\d{2}', line)\n",
    "            # percentages = re.findall(r'\\d+\\.\\d+%', line)"
   ]
  },
  {
   "cell_type": "code",
   "execution_count": null,
   "metadata": {},
   "outputs": [],
   "source": [
    "\n",
    "# 打开Excel文件\n",
    "workbook = openpyxl.load_workbook('data.xlsx')\n",
    "\n",
    "# 选择特定的工作表\n",
    "sheet = workbook.get_sheet_by_name('Sheet1')\n",
    "\n",
    "# 追加一行数据\n",
    "new_row = ['赵六', 35, '女']\n",
    "sheet.append(new_row)\n",
    "\n",
    "# 保存Excel文件\n",
    "workbook.save('data.xlsx')\n"
   ]
  },
  {
   "cell_type": "markdown",
   "metadata": {},
   "source": [
    "### 包"
   ]
  },
  {
   "cell_type": "code",
   "execution_count": null,
   "metadata": {},
   "outputs": [],
   "source": [
    "import numpy as np\n",
    "import pandas as pd\n",
    "import re\n",
    "import openpyxl"
   ]
  },
  {
   "cell_type": "markdown",
   "metadata": {},
   "source": [
    "### 数据提取"
   ]
  },
  {
   "cell_type": "code",
   "execution_count": null,
   "metadata": {},
   "outputs": [],
   "source": [
    "import numpy as np\n",
    "import pandas as pd\n",
    "import re\n",
    "import openpyxl\n",
    "from datetime import datetime\n",
    "\n",
    "# 定义正则表达式模式\n",
    "# \\s表示一个空格字符，\\d表示一个数字字符。[\\d.]表示匹配数字和小数点。+表示匹配一个或多个前面的字符。\n",
    "time_pattern = r\"(\\d{2}:\\d{2}:\\d{2}\\s\\d{3})\"\n",
    "per_pattern = r'\\d+\\.\\d+%'\n",
    "frame_pattern = re.compile(r\"frameRate\\s=\\s([\\d.]+)\")\n",
    "temperature_pattern = re.compile(r\"CPU\\sTemperature\\s([\\d{2}.]+)\")\n",
    "\n",
    "# 打开log文件和存储文件\n",
    "file_path = \"pudutech-mirsdk.g3log.20230912-090202.74092.log\"\n",
    "def total_time(timestamp):\n",
    "    # timestamp = \"09:02:02 963\"\n",
    "    parts = timestamp.split(\" \")\n",
    "    time_parts = parts[0].split(\":\")\n",
    "\n",
    "    hours = int(time_parts[0])\n",
    "    minutes = int(time_parts[1])\n",
    "    seconds = int(time_parts[2])\n",
    "    milliseconds = int(parts[1])\n",
    "\n",
    "    total_milliseconds = (hours * 3600 * 1000) + (minutes * 60 * 1000) + (seconds * 1000) + milliseconds\n",
    "    return total_milliseconds\n",
    "    # print(\"总时长（单位ms）：\", total_milliseconds)\n",
    "def time_trans(timestamp):\n",
    "    time_obj = datetime.strptime(timestamp, '%H:%M:%S %f')\n",
    "            # 计算时间对象对应的毫秒数\n",
    "    milliseconds = time_obj.hour * 3600000 + time_obj.minute * 60000 + time_obj.second * 1000 + time_obj.microsecond // 1000\n",
    "    return milliseconds\n",
    "\n",
    "\n",
    "with open(file_path, 'r', encoding=\"utf-8\") as file,\\\n",
    "     open(\"./result/frame.txt\", 'a') as f1,\\\n",
    "     open(\"./result/cpu.txt\", 'a') as f2,\\\n",
    "      open(\"./result/cpuN.txt\", 'a') as f3  :        \n",
    "    for line in file:\n",
    "        # if re.search(r'frameRate', line):\n",
    "\n",
    "        #     timestamp = re.search(time_pattern, line).group()\n",
    "        #     # 将时间字符串转换为datetime对象\n",
    "        #     milliseconds =  time_trans(timestamp)\n",
    "        #     f1.write(str(milliseconds)+\"\\n\")\n",
    "        #     frame = re.search(frame_pattern, line).group()\n",
    "        #     result = float(frame.replace(\"frameRate =\", \"\"))\n",
    "        #     f1.write(str(result )+\"\\n\")         \n",
    "        #     if result < 9.9601593625498 :\n",
    "        #         color = \"Red\"\n",
    "        #     else:\n",
    "        #         color = \"Null\"\n",
    "        #     f1.write(str(color)+\"\\n\")\n",
    "\n",
    "        # if re.search(r'cpu rate', line):\n",
    "        #     timestamp = re.search(time_pattern, line).group()\n",
    "        #     milliseconds =  time_trans(timestamp)\n",
    "        #     f2.write(str(milliseconds) + \"\\n\")\n",
    "        #     percentage = float(re.search(per_pattern, line).group().replace(\"%\",\"\"))\n",
    "        #     if percentage > 32.0 :\n",
    "        #         color = \"Red\"\n",
    "        #     # elif percentage > 80 :\n",
    "        #     #     color = \"Yellow\"\n",
    "        #     # elif percentage > 70 :\n",
    "        #     #     color = \"Blue\"\n",
    "        #     else:\n",
    "        #         color = \"Null\" \n",
    "        #     f2.write(str(percentage) + \"\\n\")   \n",
    "        #     f2.write(color + \"\\n\")\n",
    "        if re.search(r'cpu(\\d+) rate', line):\n",
    "            timestamp = re.search(time_pattern, line).group()\n",
    "            milliseconds =  time_trans(timestamp)\n",
    "            percentage = float(re.search(per_pattern, line).group().replace(\"%\",\"\"))\n",
    "            if percentage > 90 :\n",
    "                color = \"Red\"\n",
    "            elif percentage > 80 :\n",
    "                color = \"Yellow\"\n",
    "            elif percentage > 70 :\n",
    "                color = \"Blue\"\n",
    "            else:\n",
    "                color = \"Null\" \n",
    "            f3.write(str(milliseconds) + \" \"+str(percentage) + \" \"+color+ \"\\n\")   \n",
    "\n",
    "    \n",
    "        "
   ]
  },
  {
   "cell_type": "code",
   "execution_count": 37,
   "metadata": {},
   "outputs": [],
   "source": [
    "# cpu 0-5中的top \n",
    "with  open(\"./result/cpuN.txt\", 'r') as file,\\\n",
    "    open(\"./result/cpu_top.txt\", 'a') as f1:\n",
    "    lines = file.readlines()\n",
    "    index = 0\n",
    "    li = []\n",
    "\n",
    "    while index*5 < len(lines)/6 :\n",
    "        li.extend([lines[index*5].split(\" \")[1],lines[index*5+1].split(\" \")[1],lines[index*5+2].split(\" \")[1],\\\n",
    "                   lines[index*5+3].split(\" \")[1],lines[index*5+4].split(\" \")[1],lines[index*5+5].split(\" \")[1]])\n",
    "\n",
    "        li = [float(x) for x in li]\n",
    "\n",
    "        max_value = max(li)\n",
    "        max_index = li.index(max_value)\n",
    "        # print(type(lines[index*5+max_index]))\n",
    "        f1.write(lines[index*5+max_index])\n",
    "        index += 1\n",
    "        li = []\n",
    "\n",
    "        # second_line = lines[1]\n",
    "        # 处理第2行数据\n",
    "        # ...\n"
   ]
  },
  {
   "cell_type": "markdown",
   "metadata": {},
   "source": [
    "### 电池按时间截取"
   ]
  },
  {
   "cell_type": "code",
   "execution_count": null,
   "metadata": {},
   "outputs": [],
   "source": [
    "pid_list = []\n",
    "time_list = []\n",
    "# 读取Excel文件\n",
    "df = pd.read_excel('your_file.xlsx')\n",
    "\n",
    "for pid in pid_list:\n",
    "    # 遍历A列的每一个值\n",
    "for index, row in df.iterrows():\n",
    "    if row['pid'] in pid_list:\n",
    "        # 将符合条件的行添加到结果DataFrame中\n",
    "        result_df = result_df.append(row)"
   ]
  },
  {
   "cell_type": "markdown",
   "metadata": {},
   "source": [
    "### kotlin"
   ]
  },
  {
   "cell_type": "code",
   "execution_count": null,
   "metadata": {},
   "outputs": [],
   "source": [
    "import com.opencsv.CSVReader\n",
    "\n",
    "fun main() {\n",
    "    val csvReader = CSVReader(\"path/to/your/csv/file.csv\")\n",
    "\n",
    "    // 读取CSV文件的每一行\n",
    "    csvReader.forEach { line ->\n",
    "        // 读取每一行中的每一个值\n",
    "        line.forEach { value ->\n",
    "            println(value)\n",
    "        }\n",
    "    }\n",
    "}\n"
   ]
  },
  {
   "cell_type": "code",
   "execution_count": null,
   "metadata": {},
   "outputs": [],
   "source": [
    "import org.apache.poi.ss.usermodel.*\n",
    "import org.apache.poi.xssf.usermodel.XSSFWorkbook\n",
    "import java.io.FileInputStream\n",
    "\n",
    "fun main() {\n",
    "    val filePath = \"path/to/excel/file.xlsx\"\n",
    "    val sheetName = \"子表名\"\n",
    "\n",
    "    // 创建文件输入流\n",
    "    val fis = FileInputStream(filePath)\n",
    "\n",
    "    // 创建工作簿对象\n",
    "    val workbook = XSSFWorkbook(fis)\n",
    "\n",
    "    // 获取子表对象\n",
    "    val sheet = workbook.getSheet(sheetName)\n",
    "\n",
    "    // 遍历子表中的每一行\n",
    "    for (row in sheet) {\n",
    "        // 遍历行中的每个单元格\n",
    "        for (cell in row) {\n",
    "            // 根据单元格类型获取值\n",
    "            val cellValue = when (cell.cellType) {\n",
    "                CellType.STRING -> cell.stringCellValue\n",
    "                CellType.NUMERIC -> cell.numericCellValue.toString()\n",
    "                CellType.BOOLEAN -> cell.booleanCellValue.toString()\n",
    "                else -> \"\"\n",
    "            }\n",
    "            println(\"Field value: $cellValue\")\n",
    "        }\n",
    "    }\n",
    "\n",
    "    // 关闭文件输入流\n",
    "    fis.close()\n",
    "}\n"
   ]
  }
 ],
 "metadata": {
  "kernelspec": {
   "display_name": "base",
   "language": "python",
   "name": "python3"
  },
  "language_info": {
   "codemirror_mode": {
    "name": "ipython",
    "version": 3
   },
   "file_extension": ".py",
   "mimetype": "text/x-python",
   "name": "python",
   "nbconvert_exporter": "python",
   "pygments_lexer": "ipython3",
   "version": "3.9.13"
  },
  "orig_nbformat": 4
 },
 "nbformat": 4,
 "nbformat_minor": 2
}
